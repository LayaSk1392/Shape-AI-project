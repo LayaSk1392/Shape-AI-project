{
  "nbformat": 4,
  "nbformat_minor": 0,
  "metadata": {
    "colab": {
      "name": "Project.ipynb",
      "provenance": [],
      "collapsed_sections": [],
      "authorship_tag": "ABX9TyMzAc1kCnW/0BPaEBeGsB11",
      "include_colab_link": true
    },
    "kernelspec": {
      "display_name": "Python 3",
      "name": "python3"
    },
    "language_info": {
      "name": "python"
    }
  },
  "cells": [
    {
      "cell_type": "markdown",
      "metadata": {
        "id": "view-in-github",
        "colab_type": "text"
      },
      "source": [
        "<a href=\"https://colab.research.google.com/github/LayaSk1392/Shape-AI-project/blob/main/Project.ipynb\" target=\"_parent\"><img src=\"https://colab.research.google.com/assets/colab-badge.svg\" alt=\"Open In Colab\"/></a>"
      ]
    },
    {
      "cell_type": "code",
      "metadata": {
        "colab": {
          "base_uri": "https://localhost:8080/"
        },
        "id": "zIpn6PkIh_pC",
        "outputId": "e0e048f4-fdf5-44fc-d8ee-b7f837f9fd37"
      },
      "source": [
        " \n",
        "import requests\n",
        "from datetime import datetime \n",
        "q='y'\n",
        " \n",
        "Key='75e087413ede32a7165f61cf8a360165'\n",
        "while q=='y':\n",
        "     city=input(\"Enter the name of the city: \")\n",
        "     link='http://api.openweathermap.org/data/2.5/weather?q='+city+'&appid='+Key\n",
        "     comp_link=requests.get(link)\n",
        "     data=comp_link.json()\n",
        "     d=datetime.now()\n",
        "     temp = ((data['main']['temp']) - 273.15)\n",
        "     wtr_desc = data['weather'][0]['description']\n",
        "     hmdt = data['main']['humidity']\n",
        "     wind_spd = data['wind']['speed']\n",
        "     f=open(\"weather.txt\",'a')\n",
        "     \n",
        "     print (\"Weather report of  \"+city+'  Date/ time  ',d)\n",
        "     f.write(\"Weather report of  \"+city)\n",
        "     f.write(\"Date/time \"+str(d))\n",
        "     print (\"Current temperature is: {:.2f} °C\".format(temp))\n",
        "     f.write(\"Current temperature is: {:.2f} °C\".format(temp))\n",
        "     print (\"Current weather desc  :\",wtr_desc)\n",
        "     f.write(\"Current weather desc  :\"+wtr_desc)\n",
        "     print (\"Current humidity      :\",hmdt, '%')\n",
        "     f.write(\"Current humidity      :\"+str(hmdt)+'%')\n",
        "     print (\"Current wind speed    :\",wind_spd ,'kmph')\n",
        "     f.write(\"Current wind speed    :\"+str(wind_spd)+'kmph')\n",
        "     f.close()\n",
        "     q=input(\"Do you want to know the weather report of some other city? (y/n) \")"
      ],
      "execution_count": null,
      "outputs": [
        {
          "output_type": "stream",
          "text": [
            "Enter the name of the city: Thalassery\n",
            "Weather report of  Thalassery  Date/ time   2021-06-22 18:24:53.341970\n",
            "Current temperature is: 25.39 °C\n",
            "Current weather desc  : overcast clouds\n",
            "Current humidity      : 90 %\n",
            "Current wind speed    : 3.2 kmph\n",
            "Do you want to know the weather report of some other city? (y/n) Y\n"
          ],
          "name": "stdout"
        }
      ]
    }
  ]
}